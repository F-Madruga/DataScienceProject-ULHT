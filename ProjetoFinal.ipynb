{
 "cells": [
  {
   "cell_type": "markdown",
   "metadata": {},
   "source": [
    "# Projecto SIM\n",
    "\n",
    "## Identificação dos alunos\n",
    "\n",
    "Francisco Silva, a21705328\n",
    "\n",
    "Rodrigo Cassanheira, a21703091"
   ]
  },
  {
   "cell_type": "markdown",
   "metadata": {},
   "source": [
    "### Bibliotecas necessárias"
   ]
  },
  {
   "cell_type": "code",
   "execution_count": 53,
   "metadata": {},
   "outputs": [],
   "source": [
    "import pandas as pd\n",
    "import numpy as np\n",
    "import matplotlib.pyplot as plt\n",
    "import seaborn as sns\n",
    "from scipy import stats\n",
    "from sklearn.preprocessing import StandardScaler\n",
    "from sklearn.decomposition import PCA\n",
    "from sklearn.linear_model import LogisticRegression\n",
    "from sklearn.linear_model import LinearRegression\n",
    "from sklearn.model_selection import train_test_split"
   ]
  },
  {
   "cell_type": "markdown",
   "metadata": {},
   "source": [
    "### Exercício 1"
   ]
  },
  {
   "cell_type": "markdown",
   "metadata": {},
   "source": [
    "url do dataset"
   ]
  },
  {
   "cell_type": "code",
   "execution_count": 54,
   "metadata": {},
   "outputs": [],
   "source": [
    "url = \"https://raw.githubusercontent.com/tiago-santos-ulus/sim_2019/master/data/wine_q.csv\""
   ]
  },
  {
   "cell_type": "markdown",
   "metadata": {},
   "source": [
    "### Exercício 2"
   ]
  },
  {
   "cell_type": "markdown",
   "metadata": {},
   "source": [
    "Carregar o dataset num Panda dataframe"
   ]
  },
  {
   "cell_type": "code",
   "execution_count": 55,
   "metadata": {},
   "outputs": [],
   "source": [
    "df = pd.read_csv(url, error_bad_lines=False)"
   ]
  },
  {
   "cell_type": "markdown",
   "metadata": {},
   "source": [
    "Tamanho do dataframe"
   ]
  },
  {
   "cell_type": "code",
   "execution_count": 56,
   "metadata": {},
   "outputs": [
    {
     "data": {
      "text/plain": [
       "47532"
      ]
     },
     "execution_count": 56,
     "metadata": {},
     "output_type": "execute_result"
    }
   ],
   "source": [
    "df.size"
   ]
  },
  {
   "cell_type": "markdown",
   "metadata": {},
   "source": [
    "Mostra as 5 primeiras linhas do dataframe"
   ]
  },
  {
   "cell_type": "code",
   "execution_count": 57,
   "metadata": {},
   "outputs": [
    {
     "data": {
      "text/html": [
       "<div>\n",
       "<style scoped>\n",
       "    .dataframe tbody tr th:only-of-type {\n",
       "        vertical-align: middle;\n",
       "    }\n",
       "\n",
       "    .dataframe tbody tr th {\n",
       "        vertical-align: top;\n",
       "    }\n",
       "\n",
       "    .dataframe thead th {\n",
       "        text-align: right;\n",
       "    }\n",
       "</style>\n",
       "<table border=\"1\" class=\"dataframe\">\n",
       "  <thead>\n",
       "    <tr style=\"text-align: right;\">\n",
       "      <th></th>\n",
       "      <th>fixed acidity</th>\n",
       "      <th>volatile acidity</th>\n",
       "      <th>citric acid</th>\n",
       "      <th>residual sugar</th>\n",
       "      <th>chlorides</th>\n",
       "      <th>free sulfur dioxide</th>\n",
       "      <th>total sulfur dioxide</th>\n",
       "      <th>density</th>\n",
       "      <th>pH</th>\n",
       "      <th>sulphates</th>\n",
       "      <th>alcohol</th>\n",
       "      <th>quality</th>\n",
       "    </tr>\n",
       "  </thead>\n",
       "  <tbody>\n",
       "    <tr>\n",
       "      <th>0</th>\n",
       "      <td>7.0</td>\n",
       "      <td>0.27</td>\n",
       "      <td>0.36</td>\n",
       "      <td>20.7</td>\n",
       "      <td>0.045</td>\n",
       "      <td>45.0</td>\n",
       "      <td>170.0</td>\n",
       "      <td>1.0010</td>\n",
       "      <td>3.00</td>\n",
       "      <td>0.45</td>\n",
       "      <td>8.8</td>\n",
       "      <td>0</td>\n",
       "    </tr>\n",
       "    <tr>\n",
       "      <th>1</th>\n",
       "      <td>6.3</td>\n",
       "      <td>0.30</td>\n",
       "      <td>0.34</td>\n",
       "      <td>1.6</td>\n",
       "      <td>0.049</td>\n",
       "      <td>14.0</td>\n",
       "      <td>132.0</td>\n",
       "      <td>0.9940</td>\n",
       "      <td>3.30</td>\n",
       "      <td>0.49</td>\n",
       "      <td>9.5</td>\n",
       "      <td>1</td>\n",
       "    </tr>\n",
       "    <tr>\n",
       "      <th>2</th>\n",
       "      <td>8.1</td>\n",
       "      <td>0.28</td>\n",
       "      <td>0.40</td>\n",
       "      <td>6.9</td>\n",
       "      <td>0.050</td>\n",
       "      <td>30.0</td>\n",
       "      <td>97.0</td>\n",
       "      <td>0.9951</td>\n",
       "      <td>3.26</td>\n",
       "      <td>0.44</td>\n",
       "      <td>10.1</td>\n",
       "      <td>0</td>\n",
       "    </tr>\n",
       "    <tr>\n",
       "      <th>3</th>\n",
       "      <td>7.2</td>\n",
       "      <td>0.23</td>\n",
       "      <td>0.32</td>\n",
       "      <td>8.5</td>\n",
       "      <td>0.058</td>\n",
       "      <td>47.0</td>\n",
       "      <td>186.0</td>\n",
       "      <td>0.9956</td>\n",
       "      <td>3.19</td>\n",
       "      <td>0.40</td>\n",
       "      <td>9.9</td>\n",
       "      <td>0</td>\n",
       "    </tr>\n",
       "    <tr>\n",
       "      <th>4</th>\n",
       "      <td>6.2</td>\n",
       "      <td>0.32</td>\n",
       "      <td>0.16</td>\n",
       "      <td>7.0</td>\n",
       "      <td>0.045</td>\n",
       "      <td>30.0</td>\n",
       "      <td>136.0</td>\n",
       "      <td>0.9949</td>\n",
       "      <td>3.18</td>\n",
       "      <td>0.47</td>\n",
       "      <td>9.6</td>\n",
       "      <td>1</td>\n",
       "    </tr>\n",
       "  </tbody>\n",
       "</table>\n",
       "</div>"
      ],
      "text/plain": [
       "   fixed acidity  volatile acidity  citric acid  residual sugar  chlorides  \\\n",
       "0            7.0              0.27         0.36            20.7      0.045   \n",
       "1            6.3              0.30         0.34             1.6      0.049   \n",
       "2            8.1              0.28         0.40             6.9      0.050   \n",
       "3            7.2              0.23         0.32             8.5      0.058   \n",
       "4            6.2              0.32         0.16             7.0      0.045   \n",
       "\n",
       "   free sulfur dioxide  total sulfur dioxide  density    pH  sulphates  \\\n",
       "0                 45.0                 170.0   1.0010  3.00       0.45   \n",
       "1                 14.0                 132.0   0.9940  3.30       0.49   \n",
       "2                 30.0                  97.0   0.9951  3.26       0.44   \n",
       "3                 47.0                 186.0   0.9956  3.19       0.40   \n",
       "4                 30.0                 136.0   0.9949  3.18       0.47   \n",
       "\n",
       "   alcohol  quality  \n",
       "0      8.8        0  \n",
       "1      9.5        1  \n",
       "2     10.1        0  \n",
       "3      9.9        0  \n",
       "4      9.6        1  "
      ]
     },
     "execution_count": 57,
     "metadata": {},
     "output_type": "execute_result"
    }
   ],
   "source": [
    "df.head()"
   ]
  },
  {
   "cell_type": "markdown",
   "metadata": {},
   "source": [
    "### Exercício 3"
   ]
  },
  {
   "cell_type": "markdown",
   "metadata": {},
   "source": [
    "Remover possiveis linhas duplicadas e mostrar as 5 primeiras linhas"
   ]
  },
  {
   "cell_type": "code",
   "execution_count": 58,
   "metadata": {},
   "outputs": [
    {
     "data": {
      "text/html": [
       "<div>\n",
       "<style scoped>\n",
       "    .dataframe tbody tr th:only-of-type {\n",
       "        vertical-align: middle;\n",
       "    }\n",
       "\n",
       "    .dataframe tbody tr th {\n",
       "        vertical-align: top;\n",
       "    }\n",
       "\n",
       "    .dataframe thead th {\n",
       "        text-align: right;\n",
       "    }\n",
       "</style>\n",
       "<table border=\"1\" class=\"dataframe\">\n",
       "  <thead>\n",
       "    <tr style=\"text-align: right;\">\n",
       "      <th></th>\n",
       "      <th>fixed acidity</th>\n",
       "      <th>volatile acidity</th>\n",
       "      <th>citric acid</th>\n",
       "      <th>residual sugar</th>\n",
       "      <th>chlorides</th>\n",
       "      <th>free sulfur dioxide</th>\n",
       "      <th>total sulfur dioxide</th>\n",
       "      <th>density</th>\n",
       "      <th>pH</th>\n",
       "      <th>sulphates</th>\n",
       "      <th>alcohol</th>\n",
       "      <th>quality</th>\n",
       "    </tr>\n",
       "  </thead>\n",
       "  <tbody>\n",
       "    <tr>\n",
       "      <th>0</th>\n",
       "      <td>7.0</td>\n",
       "      <td>0.27</td>\n",
       "      <td>0.36</td>\n",
       "      <td>20.7</td>\n",
       "      <td>0.045</td>\n",
       "      <td>45.0</td>\n",
       "      <td>170.0</td>\n",
       "      <td>1.0010</td>\n",
       "      <td>3.00</td>\n",
       "      <td>0.45</td>\n",
       "      <td>8.8</td>\n",
       "      <td>0</td>\n",
       "    </tr>\n",
       "    <tr>\n",
       "      <th>1</th>\n",
       "      <td>6.3</td>\n",
       "      <td>0.30</td>\n",
       "      <td>0.34</td>\n",
       "      <td>1.6</td>\n",
       "      <td>0.049</td>\n",
       "      <td>14.0</td>\n",
       "      <td>132.0</td>\n",
       "      <td>0.9940</td>\n",
       "      <td>3.30</td>\n",
       "      <td>0.49</td>\n",
       "      <td>9.5</td>\n",
       "      <td>1</td>\n",
       "    </tr>\n",
       "    <tr>\n",
       "      <th>2</th>\n",
       "      <td>8.1</td>\n",
       "      <td>0.28</td>\n",
       "      <td>0.40</td>\n",
       "      <td>6.9</td>\n",
       "      <td>0.050</td>\n",
       "      <td>30.0</td>\n",
       "      <td>97.0</td>\n",
       "      <td>0.9951</td>\n",
       "      <td>3.26</td>\n",
       "      <td>0.44</td>\n",
       "      <td>10.1</td>\n",
       "      <td>0</td>\n",
       "    </tr>\n",
       "    <tr>\n",
       "      <th>3</th>\n",
       "      <td>7.2</td>\n",
       "      <td>0.23</td>\n",
       "      <td>0.32</td>\n",
       "      <td>8.5</td>\n",
       "      <td>0.058</td>\n",
       "      <td>47.0</td>\n",
       "      <td>186.0</td>\n",
       "      <td>0.9956</td>\n",
       "      <td>3.19</td>\n",
       "      <td>0.40</td>\n",
       "      <td>9.9</td>\n",
       "      <td>0</td>\n",
       "    </tr>\n",
       "    <tr>\n",
       "      <th>4</th>\n",
       "      <td>6.2</td>\n",
       "      <td>0.32</td>\n",
       "      <td>0.16</td>\n",
       "      <td>7.0</td>\n",
       "      <td>0.045</td>\n",
       "      <td>30.0</td>\n",
       "      <td>136.0</td>\n",
       "      <td>0.9949</td>\n",
       "      <td>3.18</td>\n",
       "      <td>0.47</td>\n",
       "      <td>9.6</td>\n",
       "      <td>1</td>\n",
       "    </tr>\n",
       "  </tbody>\n",
       "</table>\n",
       "</div>"
      ],
      "text/plain": [
       "   fixed acidity  volatile acidity  citric acid  residual sugar  chlorides  \\\n",
       "0            7.0              0.27         0.36            20.7      0.045   \n",
       "1            6.3              0.30         0.34             1.6      0.049   \n",
       "2            8.1              0.28         0.40             6.9      0.050   \n",
       "3            7.2              0.23         0.32             8.5      0.058   \n",
       "4            6.2              0.32         0.16             7.0      0.045   \n",
       "\n",
       "   free sulfur dioxide  total sulfur dioxide  density    pH  sulphates  \\\n",
       "0                 45.0                 170.0   1.0010  3.00       0.45   \n",
       "1                 14.0                 132.0   0.9940  3.30       0.49   \n",
       "2                 30.0                  97.0   0.9951  3.26       0.44   \n",
       "3                 47.0                 186.0   0.9956  3.19       0.40   \n",
       "4                 30.0                 136.0   0.9949  3.18       0.47   \n",
       "\n",
       "   alcohol  quality  \n",
       "0      8.8        0  \n",
       "1      9.5        1  \n",
       "2     10.1        0  \n",
       "3      9.9        0  \n",
       "4      9.6        1  "
      ]
     },
     "execution_count": 58,
     "metadata": {},
     "output_type": "execute_result"
    }
   ],
   "source": [
    "df.drop_duplicates().head()"
   ]
  },
  {
   "cell_type": "markdown",
   "metadata": {},
   "source": [
    "Tamanho do dataframe sem os duplicados"
   ]
  },
  {
   "cell_type": "code",
   "execution_count": 59,
   "metadata": {},
   "outputs": [
    {
     "data": {
      "text/plain": [
       "47532"
      ]
     },
     "execution_count": 59,
     "metadata": {},
     "output_type": "execute_result"
    }
   ],
   "source": [
    "df.size"
   ]
  },
  {
   "cell_type": "markdown",
   "metadata": {},
   "source": [
    "### Exercício 4"
   ]
  },
  {
   "cell_type": "code",
   "execution_count": 60,
   "metadata": {},
   "outputs": [
    {
     "data": {
      "text/plain": [
       "[None, None, None, None, None, None, None, None, None, None, None, None]"
      ]
     },
     "execution_count": 60,
     "metadata": {},
     "output_type": "execute_result"
    },
    {
     "data": {
      "image/png": "[encoded data removed]",
      "text/plain": [
       "<Figure size 864x864 with 12 Axes>"
      ]
     },
     "metadata": {
      "needs_background": "light"
     },
     "output_type": "display_data"
    }
   ],
   "source": [
    "[x.title.set_size(12) for x in df.hist(figsize=(12, 12), xlabelsize=8, ylabelsize=8).ravel()]"
   ]
  },
  {
   "cell_type": "markdown",
   "metadata": {},
   "source": [
    "#### A distribuição da quality é claramente uma binomial. As outra distribuições não são possiveis de dizer se são ou não normais por inspeção visual."
   ]
  },
  {
   "cell_type": "markdown",
   "metadata": {},
   "source": [
    "### Exercício 5"
   ]
  },
  {
   "cell_type": "code",
   "execution_count": 61,
   "metadata": {},
   "outputs": [
    {
     "data": {
      "text/html": [
       "<div>\n",
       "<style scoped>\n",
       "    .dataframe tbody tr th:only-of-type {\n",
       "        vertical-align: middle;\n",
       "    }\n",
       "\n",
       "    .dataframe tbody tr th {\n",
       "        vertical-align: top;\n",
       "    }\n",
       "\n",
       "    .dataframe thead th {\n",
       "        text-align: right;\n",
       "    }\n",
       "</style>\n",
       "<table border=\"1\" class=\"dataframe\">\n",
       "  <thead>\n",
       "    <tr style=\"text-align: right;\">\n",
       "      <th></th>\n",
       "      <th>jb_value</th>\n",
       "      <th>p_value</th>\n",
       "    </tr>\n",
       "  </thead>\n",
       "  <tbody>\n",
       "    <tr>\n",
       "      <th>fixed acidity</th>\n",
       "      <td>1154.195925</td>\n",
       "      <td>0.0</td>\n",
       "    </tr>\n",
       "    <tr>\n",
       "      <th>volatile acidity</th>\n",
       "      <td>6446.805928</td>\n",
       "      <td>0.0</td>\n",
       "    </tr>\n",
       "    <tr>\n",
       "      <th>citric acid</th>\n",
       "      <td>8842.606940</td>\n",
       "      <td>0.0</td>\n",
       "    </tr>\n",
       "    <tr>\n",
       "      <th>residual sugar</th>\n",
       "      <td>6484.481708</td>\n",
       "      <td>0.0</td>\n",
       "    </tr>\n",
       "    <tr>\n",
       "      <th>chlorides</th>\n",
       "      <td>224093.909649</td>\n",
       "      <td>0.0</td>\n",
       "    </tr>\n",
       "    <tr>\n",
       "      <th>free sulfur dioxide</th>\n",
       "      <td>31322.882465</td>\n",
       "      <td>0.0</td>\n",
       "    </tr>\n",
       "    <tr>\n",
       "      <th>total sulfur dioxide</th>\n",
       "      <td>226.280458</td>\n",
       "      <td>0.0</td>\n",
       "    </tr>\n",
       "    <tr>\n",
       "      <th>density</th>\n",
       "      <td>34186.932009</td>\n",
       "      <td>0.0</td>\n",
       "    </tr>\n",
       "    <tr>\n",
       "      <th>pH</th>\n",
       "      <td>186.359095</td>\n",
       "      <td>0.0</td>\n",
       "    </tr>\n",
       "    <tr>\n",
       "      <th>sulphates</th>\n",
       "      <td>982.656647</td>\n",
       "      <td>0.0</td>\n",
       "    </tr>\n",
       "    <tr>\n",
       "      <th>alcohol</th>\n",
       "      <td>214.086775</td>\n",
       "      <td>0.0</td>\n",
       "    </tr>\n",
       "    <tr>\n",
       "      <th>quality</th>\n",
       "      <td>660.738483</td>\n",
       "      <td>0.0</td>\n",
       "    </tr>\n",
       "  </tbody>\n",
       "</table>\n",
       "</div>"
      ],
      "text/plain": [
       "                           jb_value  p_value\n",
       "fixed acidity           1154.195925      0.0\n",
       "volatile acidity        6446.805928      0.0\n",
       "citric acid             8842.606940      0.0\n",
       "residual sugar          6484.481708      0.0\n",
       "chlorides             224093.909649      0.0\n",
       "free sulfur dioxide    31322.882465      0.0\n",
       "total sulfur dioxide     226.280458      0.0\n",
       "density                34186.932009      0.0\n",
       "pH                       186.359095      0.0\n",
       "sulphates                982.656647      0.0\n",
       "alcohol                  214.086775      0.0\n",
       "quality                  660.738483      0.0"
      ]
     },
     "execution_count": 61,
     "metadata": {},
     "output_type": "execute_result"
    }
   ],
   "source": [
    "pd.DataFrame(dict([(col, list(stats.jarque_bera(df[col]))) for col in df.columns])).transpose().rename(columns={0: 'jb_value', 1: 'p_value'})"
   ]
  },
  {
   "cell_type": "markdown",
   "metadata": {},
   "source": [
    "### Exercício 6"
   ]
  },
  {
   "cell_type": "markdown",
   "metadata": {},
   "source": [
    "Heatmap com gradiente de cor vermelho e azul para ser mais fácil a análise da matriz de correlação"
   ]
  },
  {
   "cell_type": "code",
   "execution_count": 62,
   "metadata": {},
   "outputs": [
    {
     "data": {
      "text/plain": [
       "<matplotlib.axes._subplots.AxesSubplot at 0x7fb949214a20>"
      ]
     },
     "execution_count": 62,
     "metadata": {},
     "output_type": "execute_result"
    },
    {
     "data": {
      "image/png": "[encoded data removed]",
      "text/plain": [
       "<Figure size 432x288 with 2 Axes>"
      ]
     },
     "metadata": {
      "needs_background": "light"
     },
     "output_type": "display_data"
    }
   ],
   "source": [
    "sns.heatmap(df.corr(), cmap=\"coolwarm\")"
   ]
  },
  {
   "cell_type": "markdown",
   "metadata": {},
   "source": [
    "### Exercício 7"
   ]
  },
  {
   "cell_type": "markdown",
   "metadata": {},
   "source": [
    "De acordo com o p-value do Exercício 5 conclui-se que as diferentes dimensões do dataset têm o p-value igual a zero, então é possível usar PCA para analisar os dados.\n",
    "\n",
    "Após fazer uma análise visual sobre o heatmap da matriz de correlação do Exercício 6 conclui-se que se pode usar PCA para analisar os dados. As diferentes dimensões não estão diretamente correlacionadas entre si e as que se relacionam mais são apenas density e residual sugar, logo a perda de dados é muito reduzida."
   ]
  },
  {
   "cell_type": "markdown",
   "metadata": {},
   "source": [
    "### Exercício 8"
   ]
  },
  {
   "cell_type": "markdown",
   "metadata": {},
   "source": [
    "#### Separação das variáveis do dataframe"
   ]
  },
  {
   "cell_type": "markdown",
   "metadata": {},
   "source": [
    "Variáveis independentes (onze primeiras)"
   ]
  },
  {
   "cell_type": "code",
   "execution_count": 63,
   "metadata": {},
   "outputs": [],
   "source": [
    "independent_variables = df.iloc[:, :-1].values"
   ]
  },
  {
   "cell_type": "markdown",
   "metadata": {},
   "source": [
    "Variável dependente (quality)"
   ]
  },
  {
   "cell_type": "code",
   "execution_count": 64,
   "metadata": {},
   "outputs": [],
   "source": [
    "dependent_variable = df.iloc[:, -1].values"
   ]
  },
  {
   "cell_type": "markdown",
   "metadata": {},
   "source": [
    "### Exercício 9"
   ]
  },
  {
   "cell_type": "markdown",
   "metadata": {},
   "source": [
    "Normalização dos dados"
   ]
  },
  {
   "cell_type": "code",
   "execution_count": 65,
   "metadata": {},
   "outputs": [],
   "source": [
    "scaler = StandardScaler()\n",
    "df_norm = scaler.fit_transform(independent_variables)"
   ]
  },
  {
   "cell_type": "markdown",
   "metadata": {},
   "source": [
    "#### Aplicação do PCA"
   ]
  },
  {
   "cell_type": "markdown",
   "metadata": {},
   "source": [
    "Eigenvalue"
   ]
  },
  {
   "cell_type": "code",
   "execution_count": 66,
   "metadata": {},
   "outputs": [
    {
     "data": {
      "text/html": [
       "<div>\n",
       "<style scoped>\n",
       "    .dataframe tbody tr th:only-of-type {\n",
       "        vertical-align: middle;\n",
       "    }\n",
       "\n",
       "    .dataframe tbody tr th {\n",
       "        vertical-align: top;\n",
       "    }\n",
       "\n",
       "    .dataframe thead th {\n",
       "        text-align: right;\n",
       "    }\n",
       "</style>\n",
       "<table border=\"1\" class=\"dataframe\">\n",
       "  <thead>\n",
       "    <tr style=\"text-align: right;\">\n",
       "      <th></th>\n",
       "      <th>PC1</th>\n",
       "      <th>PC2</th>\n",
       "      <th>PC3</th>\n",
       "      <th>PC4</th>\n",
       "      <th>PC5</th>\n",
       "      <th>PC6</th>\n",
       "      <th>PC7</th>\n",
       "      <th>PC8</th>\n",
       "      <th>PC9</th>\n",
       "      <th>PC10</th>\n",
       "      <th>PC11</th>\n",
       "    </tr>\n",
       "  </thead>\n",
       "  <tbody>\n",
       "    <tr>\n",
       "      <th>eigenvalue</th>\n",
       "      <td>0.289412</td>\n",
       "      <td>0.145133</td>\n",
       "      <td>0.110277</td>\n",
       "      <td>0.094459</td>\n",
       "      <td>0.089194</td>\n",
       "      <td>0.084482</td>\n",
       "      <td>0.065641</td>\n",
       "      <td>0.054731</td>\n",
       "      <td>0.038985</td>\n",
       "      <td>0.025537</td>\n",
       "      <td>0.00215</td>\n",
       "    </tr>\n",
       "  </tbody>\n",
       "</table>\n",
       "</div>"
      ],
      "text/plain": [
       "                 PC1       PC2       PC3       PC4       PC5       PC6  \\\n",
       "eigenvalue  0.289412  0.145133  0.110277  0.094459  0.089194  0.084482   \n",
       "\n",
       "                 PC7       PC8       PC9      PC10     PC11  \n",
       "eigenvalue  0.065641  0.054731  0.038985  0.025537  0.00215  "
      ]
     },
     "execution_count": 66,
     "metadata": {},
     "output_type": "execute_result"
    }
   ],
   "source": [
    "pca_norm = PCA(n_components=11)\n",
    "pca_norm.fit(df_norm)\n",
    "eigenvalues = pca_norm.explained_variance_ratio_\n",
    "pd.DataFrame(eigenvalues, index=[f\"PC{i + 1}\" for i in range(len(eigenvalues))], columns=[\"eigenvalue\"]).transpose()"
   ]
  },
  {
   "cell_type": "markdown",
   "metadata": {},
   "source": [
    "Matriz de Loading"
   ]
  },
  {
   "cell_type": "code",
   "execution_count": 67,
   "metadata": {},
   "outputs": [
    {
     "data": {
      "text/html": [
       "<div>\n",
       "<style scoped>\n",
       "    .dataframe tbody tr th:only-of-type {\n",
       "        vertical-align: middle;\n",
       "    }\n",
       "\n",
       "    .dataframe tbody tr th {\n",
       "        vertical-align: top;\n",
       "    }\n",
       "\n",
       "    .dataframe thead th {\n",
       "        text-align: right;\n",
       "    }\n",
       "</style>\n",
       "<table border=\"1\" class=\"dataframe\">\n",
       "  <thead>\n",
       "    <tr style=\"text-align: right;\">\n",
       "      <th></th>\n",
       "      <th>PC1</th>\n",
       "      <th>PC2</th>\n",
       "      <th>PC3</th>\n",
       "      <th>PC4</th>\n",
       "      <th>PC5</th>\n",
       "      <th>PC6</th>\n",
       "      <th>PC7</th>\n",
       "      <th>PC8</th>\n",
       "      <th>PC9</th>\n",
       "      <th>PC10</th>\n",
       "      <th>PC11</th>\n",
       "    </tr>\n",
       "  </thead>\n",
       "  <tbody>\n",
       "    <tr>\n",
       "      <th>fixed acidity</th>\n",
       "      <td>0.152835</td>\n",
       "      <td>-0.595986</td>\n",
       "      <td>-0.055466</td>\n",
       "      <td>0.003065</td>\n",
       "      <td>0.260053</td>\n",
       "      <td>0.002843</td>\n",
       "      <td>-0.211089</td>\n",
       "      <td>0.563920</td>\n",
       "      <td>0.370509</td>\n",
       "      <td>0.136228</td>\n",
       "      <td>-0.179780</td>\n",
       "    </tr>\n",
       "    <tr>\n",
       "      <th>volatile acidity</th>\n",
       "      <td>0.026771</td>\n",
       "      <td>0.063344</td>\n",
       "      <td>0.672198</td>\n",
       "      <td>0.168251</td>\n",
       "      <td>0.383853</td>\n",
       "      <td>0.433047</td>\n",
       "      <td>0.285174</td>\n",
       "      <td>0.108064</td>\n",
       "      <td>-0.179983</td>\n",
       "      <td>0.233361</td>\n",
       "      <td>-0.019625</td>\n",
       "    </tr>\n",
       "    <tr>\n",
       "      <th>citric acid</th>\n",
       "      <td>0.151911</td>\n",
       "      <td>-0.384032</td>\n",
       "      <td>-0.461453</td>\n",
       "      <td>0.142312</td>\n",
       "      <td>0.000857</td>\n",
       "      <td>0.120641</td>\n",
       "      <td>0.711136</td>\n",
       "      <td>-0.072173</td>\n",
       "      <td>-0.261001</td>\n",
       "      <td>0.050317</td>\n",
       "      <td>-0.010951</td>\n",
       "    </tr>\n",
       "    <tr>\n",
       "      <th>residual sugar</th>\n",
       "      <td>0.422095</td>\n",
       "      <td>0.024514</td>\n",
       "      <td>0.202225</td>\n",
       "      <td>-0.280083</td>\n",
       "      <td>0.159016</td>\n",
       "      <td>-0.263243</td>\n",
       "      <td>0.241202</td>\n",
       "      <td>-0.422158</td>\n",
       "      <td>0.358607</td>\n",
       "      <td>-0.072347</td>\n",
       "      <td>-0.486911</td>\n",
       "    </tr>\n",
       "    <tr>\n",
       "      <th>chlorides</th>\n",
       "      <td>0.211968</td>\n",
       "      <td>-0.029701</td>\n",
       "      <td>0.108585</td>\n",
       "      <td>0.669413</td>\n",
       "      <td>-0.487061</td>\n",
       "      <td>0.244592</td>\n",
       "      <td>-0.022996</td>\n",
       "      <td>-0.136997</td>\n",
       "      <td>0.417670</td>\n",
       "      <td>-0.052923</td>\n",
       "      <td>-0.026149</td>\n",
       "    </tr>\n",
       "    <tr>\n",
       "      <th>free sulfur dioxide</th>\n",
       "      <td>0.308153</td>\n",
       "      <td>0.260425</td>\n",
       "      <td>-0.309921</td>\n",
       "      <td>-0.337623</td>\n",
       "      <td>-0.099782</td>\n",
       "      <td>0.495466</td>\n",
       "      <td>-0.142814</td>\n",
       "      <td>-0.058128</td>\n",
       "      <td>0.125295</td>\n",
       "      <td>0.575552</td>\n",
       "      <td>0.031692</td>\n",
       "    </tr>\n",
       "    <tr>\n",
       "      <th>total sulfur dioxide</th>\n",
       "      <td>0.416806</td>\n",
       "      <td>0.225205</td>\n",
       "      <td>-0.123396</td>\n",
       "      <td>-0.093913</td>\n",
       "      <td>0.109857</td>\n",
       "      <td>0.376190</td>\n",
       "      <td>-0.055537</td>\n",
       "      <td>0.274100</td>\n",
       "      <td>-0.110490</td>\n",
       "      <td>-0.711630</td>\n",
       "      <td>-0.032872</td>\n",
       "    </tr>\n",
       "    <tr>\n",
       "      <th>density</th>\n",
       "      <td>0.512038</td>\n",
       "      <td>0.013104</td>\n",
       "      <td>0.128844</td>\n",
       "      <td>0.006199</td>\n",
       "      <td>0.085378</td>\n",
       "      <td>-0.349913</td>\n",
       "      <td>0.080040</td>\n",
       "      <td>0.050298</td>\n",
       "      <td>0.079800</td>\n",
       "      <td>0.074948</td>\n",
       "      <td>0.755219</td>\n",
       "    </tr>\n",
       "    <tr>\n",
       "      <th>pH</th>\n",
       "      <td>-0.114020</td>\n",
       "      <td>0.578270</td>\n",
       "      <td>-0.145005</td>\n",
       "      <td>0.134127</td>\n",
       "      <td>-0.003516</td>\n",
       "      <td>-0.257729</td>\n",
       "      <td>0.400874</td>\n",
       "      <td>0.526391</td>\n",
       "      <td>0.269723</td>\n",
       "      <td>0.123225</td>\n",
       "      <td>-0.146379</td>\n",
       "    </tr>\n",
       "    <tr>\n",
       "      <th>sulphates</th>\n",
       "      <td>0.047439</td>\n",
       "      <td>0.191317</td>\n",
       "      <td>-0.352815</td>\n",
       "      <td>0.497931</td>\n",
       "      <td>0.658631</td>\n",
       "      <td>-0.063262</td>\n",
       "      <td>-0.262524</td>\n",
       "      <td>-0.274051</td>\n",
       "      <td>-0.009803</td>\n",
       "      <td>0.070471</td>\n",
       "      <td>-0.043031</td>\n",
       "    </tr>\n",
       "    <tr>\n",
       "      <th>alcohol</th>\n",
       "      <td>-0.428525</td>\n",
       "      <td>-0.045995</td>\n",
       "      <td>-0.077879</td>\n",
       "      <td>-0.189994</td>\n",
       "      <td>0.243705</td>\n",
       "      <td>0.298185</td>\n",
       "      <td>0.224030</td>\n",
       "      <td>-0.186791</td>\n",
       "      <td>0.593329</td>\n",
       "      <td>-0.230159</td>\n",
       "      <td>0.365635</td>\n",
       "    </tr>\n",
       "  </tbody>\n",
       "</table>\n",
       "</div>"
      ],
      "text/plain": [
       "                           PC1       PC2       PC3       PC4       PC5  \\\n",
       "fixed acidity         0.152835 -0.595986 -0.055466  0.003065  0.260053   \n",
       "volatile acidity      0.026771  0.063344  0.672198  0.168251  0.383853   \n",
       "citric acid           0.151911 -0.384032 -0.461453  0.142312  0.000857   \n",
       "residual sugar        0.422095  0.024514  0.202225 -0.280083  0.159016   \n",
       "chlorides             0.211968 -0.029701  0.108585  0.669413 -0.487061   \n",
       "free sulfur dioxide   0.308153  0.260425 -0.309921 -0.337623 -0.099782   \n",
       "total sulfur dioxide  0.416806  0.225205 -0.123396 -0.093913  0.109857   \n",
       "density               0.512038  0.013104  0.128844  0.006199  0.085378   \n",
       "pH                   -0.114020  0.578270 -0.145005  0.134127 -0.003516   \n",
       "sulphates             0.047439  0.191317 -0.352815  0.497931  0.658631   \n",
       "alcohol              -0.428525 -0.045995 -0.077879 -0.189994  0.243705   \n",
       "\n",
       "                           PC6       PC7       PC8       PC9      PC10  \\\n",
       "fixed acidity         0.002843 -0.211089  0.563920  0.370509  0.136228   \n",
       "volatile acidity      0.433047  0.285174  0.108064 -0.179983  0.233361   \n",
       "citric acid           0.120641  0.711136 -0.072173 -0.261001  0.050317   \n",
       "residual sugar       -0.263243  0.241202 -0.422158  0.358607 -0.072347   \n",
       "chlorides             0.244592 -0.022996 -0.136997  0.417670 -0.052923   \n",
       "free sulfur dioxide   0.495466 -0.142814 -0.058128  0.125295  0.575552   \n",
       "total sulfur dioxide  0.376190 -0.055537  0.274100 -0.110490 -0.711630   \n",
       "density              -0.349913  0.080040  0.050298  0.079800  0.074948   \n",
       "pH                   -0.257729  0.400874  0.526391  0.269723  0.123225   \n",
       "sulphates            -0.063262 -0.262524 -0.274051 -0.009803  0.070471   \n",
       "alcohol               0.298185  0.224030 -0.186791  0.593329 -0.230159   \n",
       "\n",
       "                          PC11  \n",
       "fixed acidity        -0.179780  \n",
       "volatile acidity     -0.019625  \n",
       "citric acid          -0.010951  \n",
       "residual sugar       -0.486911  \n",
       "chlorides            -0.026149  \n",
       "free sulfur dioxide   0.031692  \n",
       "total sulfur dioxide -0.032872  \n",
       "density               0.755219  \n",
       "pH                   -0.146379  \n",
       "sulphates            -0.043031  \n",
       "alcohol               0.365635  "
      ]
     },
     "execution_count": 67,
     "metadata": {},
     "output_type": "execute_result"
    }
   ],
   "source": [
    "norm_pca_loadings = pd.DataFrame(pca_norm.components_.transpose(), index = df.columns[:-1], columns=[f\"PC{i}\" for i in range(1, df.shape[1])])\n",
    "norm_pca_loadings"
   ]
  },
  {
   "cell_type": "code",
   "execution_count": 68,
   "metadata": {},
   "outputs": [
    {
     "data": {
      "text/html": [
       "<div>\n",
       "<style scoped>\n",
       "    .dataframe tbody tr th:only-of-type {\n",
       "        vertical-align: middle;\n",
       "    }\n",
       "\n",
       "    .dataframe tbody tr th {\n",
       "        vertical-align: top;\n",
       "    }\n",
       "\n",
       "    .dataframe thead th {\n",
       "        text-align: right;\n",
       "    }\n",
       "</style>\n",
       "<table border=\"1\" class=\"dataframe\">\n",
       "  <thead>\n",
       "    <tr style=\"text-align: right;\">\n",
       "      <th></th>\n",
       "      <th>0</th>\n",
       "      <th>1</th>\n",
       "      <th>2</th>\n",
       "      <th>3</th>\n",
       "      <th>4</th>\n",
       "      <th>5</th>\n",
       "      <th>6</th>\n",
       "      <th>7</th>\n",
       "      <th>8</th>\n",
       "      <th>9</th>\n",
       "      <th>10</th>\n",
       "    </tr>\n",
       "  </thead>\n",
       "  <tbody>\n",
       "    <tr>\n",
       "      <th>0</th>\n",
       "      <td>0.289412</td>\n",
       "      <td>0.434546</td>\n",
       "      <td>0.544823</td>\n",
       "      <td>0.639281</td>\n",
       "      <td>0.728475</td>\n",
       "      <td>0.812957</td>\n",
       "      <td>0.878598</td>\n",
       "      <td>0.933329</td>\n",
       "      <td>0.972313</td>\n",
       "      <td>0.99785</td>\n",
       "      <td>1.0</td>\n",
       "    </tr>\n",
       "  </tbody>\n",
       "</table>\n",
       "</div>"
      ],
      "text/plain": [
       "         0         1         2         3         4         5         6   \\\n",
       "0  0.289412  0.434546  0.544823  0.639281  0.728475  0.812957  0.878598   \n",
       "\n",
       "         7         8        9    10  \n",
       "0  0.933329  0.972313  0.99785  1.0  "
      ]
     },
     "execution_count": 68,
     "metadata": {},
     "output_type": "execute_result"
    }
   ],
   "source": [
    "var_cumsum = np.cumsum(eigenvalues)\n",
    "pd.DataFrame(var_cumsum).transpose()"
   ]
  },
  {
   "cell_type": "markdown",
   "metadata": {},
   "source": [
    "Componente que explica 93% da variância"
   ]
  },
  {
   "cell_type": "code",
   "execution_count": 69,
   "metadata": {},
   "outputs": [
    {
     "data": {
      "text/plain": [
       "7"
      ]
     },
     "execution_count": 69,
     "metadata": {},
     "output_type": "execute_result"
    }
   ],
   "source": [
    "np.argwhere(var_cumsum > 0.93)[0].item()"
   ]
  },
  {
   "cell_type": "code",
   "execution_count": 70,
   "metadata": {},
   "outputs": [],
   "source": [
    "pca_pc8 = PCA(n_components=8)\n",
    "norm_pca_data = pca_pc8.fit_transform(df_norm)"
   ]
  },
  {
   "cell_type": "code",
   "execution_count": 71,
   "metadata": {},
   "outputs": [],
   "source": [
    "norm_pca_scored_df = pd.DataFrame(norm_pca_data, columns=[f\"PC{i}\" for i in range(1, norm_pca_data.shape[1]+1) ])"
   ]
  },
  {
   "cell_type": "code",
   "execution_count": 72,
   "metadata": {},
   "outputs": [
    {
     "data": {
      "text/html": [
       "<div>\n",
       "<style scoped>\n",
       "    .dataframe tbody tr th:only-of-type {\n",
       "        vertical-align: middle;\n",
       "    }\n",
       "\n",
       "    .dataframe tbody tr th {\n",
       "        vertical-align: top;\n",
       "    }\n",
       "\n",
       "    .dataframe thead th {\n",
       "        text-align: right;\n",
       "    }\n",
       "</style>\n",
       "<table border=\"1\" class=\"dataframe\">\n",
       "  <thead>\n",
       "    <tr style=\"text-align: right;\">\n",
       "      <th></th>\n",
       "      <th>PC1</th>\n",
       "      <th>PC2</th>\n",
       "      <th>PC3</th>\n",
       "      <th>PC4</th>\n",
       "      <th>PC5</th>\n",
       "      <th>PC6</th>\n",
       "      <th>PC7</th>\n",
       "      <th>PC8</th>\n",
       "      <th>quality</th>\n",
       "    </tr>\n",
       "  </thead>\n",
       "  <tbody>\n",
       "    <tr>\n",
       "      <th>0</th>\n",
       "      <td>3.862702</td>\n",
       "      <td>-0.511138</td>\n",
       "      <td>0.906204</td>\n",
       "      <td>-1.189948</td>\n",
       "      <td>0.160987</td>\n",
       "      <td>-1.203505</td>\n",
       "      <td>0.134813</td>\n",
       "      <td>-1.207956</td>\n",
       "      <td>0</td>\n",
       "    </tr>\n",
       "    <tr>\n",
       "      <th>1</th>\n",
       "      <td>-0.511673</td>\n",
       "      <td>0.436496</td>\n",
       "      <td>0.345879</td>\n",
       "      <td>1.057328</td>\n",
       "      <td>-0.404488</td>\n",
       "      <td>-0.764931</td>\n",
       "      <td>0.263452</td>\n",
       "      <td>0.594880</td>\n",
       "      <td>1</td>\n",
       "    </tr>\n",
       "    <tr>\n",
       "      <th>2</th>\n",
       "      <td>0.284474</td>\n",
       "      <td>-1.171489</td>\n",
       "      <td>0.115821</td>\n",
       "      <td>0.240730</td>\n",
       "      <td>-0.104588</td>\n",
       "      <td>-0.794319</td>\n",
       "      <td>0.443306</td>\n",
       "      <td>0.875711</td>\n",
       "      <td>0</td>\n",
       "    </tr>\n",
       "    <tr>\n",
       "      <th>3</th>\n",
       "      <td>1.585098</td>\n",
       "      <td>0.062778</td>\n",
       "      <td>-0.080411</td>\n",
       "      <td>-0.529644</td>\n",
       "      <td>-0.804770</td>\n",
       "      <td>0.210587</td>\n",
       "      <td>-0.240052</td>\n",
       "      <td>0.499705</td>\n",
       "      <td>0</td>\n",
       "    </tr>\n",
       "    <tr>\n",
       "      <th>4</th>\n",
       "      <td>0.215305</td>\n",
       "      <td>0.886144</td>\n",
       "      <td>1.277464</td>\n",
       "      <td>-0.077055</td>\n",
       "      <td>-0.249904</td>\n",
       "      <td>-0.566766</td>\n",
       "      <td>-0.796586</td>\n",
       "      <td>-0.185385</td>\n",
       "      <td>1</td>\n",
       "    </tr>\n",
       "  </tbody>\n",
       "</table>\n",
       "</div>"
      ],
      "text/plain": [
       "        PC1       PC2       PC3       PC4       PC5       PC6       PC7  \\\n",
       "0  3.862702 -0.511138  0.906204 -1.189948  0.160987 -1.203505  0.134813   \n",
       "1 -0.511673  0.436496  0.345879  1.057328 -0.404488 -0.764931  0.263452   \n",
       "2  0.284474 -1.171489  0.115821  0.240730 -0.104588 -0.794319  0.443306   \n",
       "3  1.585098  0.062778 -0.080411 -0.529644 -0.804770  0.210587 -0.240052   \n",
       "4  0.215305  0.886144  1.277464 -0.077055 -0.249904 -0.566766 -0.796586   \n",
       "\n",
       "        PC8  quality  \n",
       "0 -1.207956        0  \n",
       "1  0.594880        1  \n",
       "2  0.875711        0  \n",
       "3  0.499705        0  \n",
       "4 -0.185385        1  "
      ]
     },
     "execution_count": 72,
     "metadata": {},
     "output_type": "execute_result"
    }
   ],
   "source": [
    "norm_pca_scored_df[\"quality\"] = df[\"quality\"]\n",
    "norm_pca_scored_df.head()"
   ]
  },
  {
   "cell_type": "code",
   "execution_count": 73,
   "metadata": {},
   "outputs": [
    {
     "data": {
      "text/plain": [
       "<matplotlib.axes._subplots.AxesSubplot at 0x7fb94813f9e8>"
      ]
     },
     "execution_count": 73,
     "metadata": {},
     "output_type": "execute_result"
    },
    {
     "data": {
      "image/png": "[encoded data removed]",
      "text/plain": [
       "<Figure size 432x288 with 1 Axes>"
      ]
     },
     "metadata": {
      "needs_background": "light"
     },
     "output_type": "display_data"
    }
   ],
   "source": [
    "sns.scatterplot(data=norm_pca_scored_df, x=\"PC1\", y=\"PC2\", hue=\"quality\")"
   ]
  },
  {
   "cell_type": "code",
   "execution_count": null,
   "metadata": {},
   "outputs": [
    {
     "name": "stderr",
     "output_type": "stream",
     "text": [
      "/home/madruga/anaconda3/lib/python3.7/site-packages/statsmodels/nonparametric/kde.py:487: RuntimeWarning: invalid value encountered in true_divide\n",
      "  binned = fast_linbin(X, a, b, gridsize) / (delta * nobs)\n",
      "/home/madruga/anaconda3/lib/python3.7/site-packages/statsmodels/nonparametric/kdetools.py:34: RuntimeWarning: invalid value encountered in double_scalars\n",
      "  FAC1 = 2*(np.pi*bw/RANGE)**2\n"
     ]
    },
    {
     "data": {
      "text/plain": [
       "<seaborn.axisgrid.PairGrid at 0x7fb9481349e8>"
      ]
     },
     "execution_count": 74,
     "metadata": {},
     "output_type": "execute_result"
    }
   ],
   "source": [
    "norm_pca_scored_df[\"quality\"] = norm_pca_scored_df[\"quality\"].astype('category')\n",
    "sns.pairplot(norm_pca_scored_df, hue=\"quality\")"
   ]
  },
  {
   "cell_type": "markdown",
   "metadata": {},
   "source": [
    "### Exercício 10"
   ]
  },
  {
   "cell_type": "code",
   "execution_count": null,
   "metadata": {},
   "outputs": [],
   "source": [
    "X_train, X_test, y_train, y_test = train_test_split(independent_variables, dependent_variable, test_size=0.2, random_state=0)\n",
    "regressor = LinearRegression()\n",
    "\n",
    "regressor.fit(X_train, y_train)\n",
    "\n",
    "print(regressor.coef_)\n",
    "print(regressor.intercept_)"
   ]
  },
  {
   "cell_type": "code",
   "execution_count": null,
   "metadata": {},
   "outputs": [],
   "source": [
    "clf = LogisticRegression(random_state=0, solver='lbfgs')\n",
    "model = clf.fit(X_train, y_train)\n",
    "print(model.intercept_)\n",
    "print(model.coef_)"
   ]
  }
 ],
 "metadata": {
  "kernelspec": {
   "display_name": "Python 3",
   "language": "python",
   "name": "python3"
  },
  "language_info": {
   "codemirror_mode": {
    "name": "ipython",
    "version": 3
   },
   "file_extension": ".py",
   "mimetype": "text/x-python",
   "name": "python",
   "nbconvert_exporter": "python",
   "pygments_lexer": "ipython3",
   "version": "3.7.3"
  }
 },
 "nbformat": 4,
 "nbformat_minor": 4
}
